{
  "nbformat": 4,
  "nbformat_minor": 0,
  "metadata": {
    "colab": {
      "provenance": []
    },
    "kernelspec": {
      "name": "python3",
      "display_name": "Python 3"
    },
    "language_info": {
      "name": "python"
    }
  },
  "cells": [
    {
      "cell_type": "code",
      "execution_count": 1,
      "metadata": {
        "id": "8rRMmxDCUP0J"
      },
      "outputs": [],
      "source": [
        "import numpy as np\n",
        "import pandas as pd\n",
        "import matplotlib.pyplot as plt\n",
        "import tensorflow as tf\n",
        "from tensorflow.keras import layers, models\n",
        "from scipy.io import loadmat\n"
      ]
    },
    {
      "cell_type": "code",
      "source": [
        "!wget http://ufldl.stanford.edu/housenumbers/train_32x32.mat\n",
        "!wget http://ufldl.stanford.edu/housenumbers/test_32x32.mat\n",
        "\n",
        "train = loadmat('train_32x32.mat')\n",
        "test = loadmat('test_32x32.mat')\n"
      ],
      "metadata": {
        "colab": {
          "base_uri": "https://localhost:8080/"
        },
        "id": "OIxzkZG1UimQ",
        "outputId": "56880f6b-7589-47e6-d1cb-14697125a495"
      },
      "execution_count": 2,
      "outputs": [
        {
          "output_type": "stream",
          "name": "stdout",
          "text": [
            "--2024-09-16 19:32:11--  http://ufldl.stanford.edu/housenumbers/train_32x32.mat\n",
            "Resolving ufldl.stanford.edu (ufldl.stanford.edu)... 171.64.68.10\n",
            "Connecting to ufldl.stanford.edu (ufldl.stanford.edu)|171.64.68.10|:80... connected.\n",
            "HTTP request sent, awaiting response... 200 OK\n",
            "Length: 182040794 (174M) [text/plain]\n",
            "Saving to: ‘train_32x32.mat’\n",
            "\n",
            "train_32x32.mat     100%[===================>] 173.61M  13.7MB/s    in 20s     \n",
            "\n",
            "2024-09-16 19:32:32 (8.62 MB/s) - ‘train_32x32.mat’ saved [182040794/182040794]\n",
            "\n",
            "--2024-09-16 19:32:32--  http://ufldl.stanford.edu/housenumbers/test_32x32.mat\n",
            "Resolving ufldl.stanford.edu (ufldl.stanford.edu)... 171.64.68.10\n",
            "Connecting to ufldl.stanford.edu (ufldl.stanford.edu)|171.64.68.10|:80... connected.\n",
            "HTTP request sent, awaiting response... 200 OK\n",
            "Length: 64275384 (61M) [text/plain]\n",
            "Saving to: ‘test_32x32.mat’\n",
            "\n",
            "test_32x32.mat      100%[===================>]  61.30M  4.22MB/s    in 18s     \n",
            "\n",
            "2024-09-16 19:32:50 (3.32 MB/s) - ‘test_32x32.mat’ saved [64275384/64275384]\n",
            "\n"
          ]
        }
      ]
    },
    {
      "cell_type": "code",
      "source": [
        "X_train = train['X']\n",
        "y_train = train['y']\n",
        "X_test = test['X']\n",
        "y_test = test['y']\n",
        "\n",
        "print('Training data shape:', X_train.shape)\n",
        "print('Test data shape:', X_test.shape)\n"
      ],
      "metadata": {
        "colab": {
          "base_uri": "https://localhost:8080/"
        },
        "id": "EQ0ABrquUyla",
        "outputId": "8436c3d1-9a01-417e-eae4-ceac4bec7d1a"
      },
      "execution_count": 3,
      "outputs": [
        {
          "output_type": "stream",
          "name": "stdout",
          "text": [
            "Training data shape: (32, 32, 3, 73257)\n",
            "Test data shape: (32, 32, 3, 26032)\n"
          ]
        }
      ]
    },
    {
      "cell_type": "code",
      "source": [
        "X_train = X_train.astype('float32') / 255\n",
        "X_test = X_test.astype('float32') / 255\n"
      ],
      "metadata": {
        "id": "o6dhC2jgU6fE"
      },
      "execution_count": 4,
      "outputs": []
    },
    {
      "cell_type": "code",
      "source": [
        "X_train = np.moveaxis(X_train, -1, 0)\n",
        "X_test = np.moveaxis(X_test, -1, 0)\n",
        "print('New training data shape:', X_train.shape)\n"
      ],
      "metadata": {
        "colab": {
          "base_uri": "https://localhost:8080/"
        },
        "id": "LNv5vvt-VD8O",
        "outputId": "5ba23217-1f61-4bbc-deec-4b0a682b8dca"
      },
      "execution_count": 5,
      "outputs": [
        {
          "output_type": "stream",
          "name": "stdout",
          "text": [
            "New training data shape: (73257, 32, 32, 3)\n"
          ]
        }
      ]
    },
    {
      "cell_type": "code",
      "source": [
        "y_train = y_train.flatten()\n",
        "y_test = y_test.flatten()\n",
        "y_train[y_train == 10] = 0\n",
        "y_test[y_test == 10] = 0\n"
      ],
      "metadata": {
        "id": "iAd2osnuVJGc"
      },
      "execution_count": 6,
      "outputs": []
    },
    {
      "cell_type": "code",
      "source": [
        "y_train = tf.keras.utils.to_categorical(y_train, 10)\n",
        "y_test = tf.keras.utils.to_categorical(y_test, 10)\n"
      ],
      "metadata": {
        "id": "nmo_68wKVcgj"
      },
      "execution_count": 7,
      "outputs": []
    },
    {
      "cell_type": "code",
      "source": [
        "from tensorflow.keras import layers, models, Input\n",
        "\n",
        "model = models.Sequential()\n",
        "model.add(Input(shape=(32, 32, 3)))  # Define the input shape using Input layer\n",
        "model.add(layers.Conv2D(32, (3, 3), activation='relu'))\n",
        "model.add(layers.MaxPooling2D((2, 2)))\n",
        "model.add(layers.Conv2D(64, (3, 3), activation='relu'))\n",
        "model.add(layers.MaxPooling2D((2, 2)))\n",
        "model.add(layers.Conv2D(128, (3, 3), activation='relu'))\n",
        "model.add(layers.Flatten())\n",
        "model.add(layers.Dense(128, activation='relu'))\n",
        "model.add(layers.Dense(10, activation='softmax'))\n"
      ],
      "metadata": {
        "id": "ZXxy8si6VfS9"
      },
      "execution_count": 9,
      "outputs": []
    },
    {
      "cell_type": "code",
      "source": [
        "model.compile(optimizer='adam',\n",
        "              loss='categorical_crossentropy',\n",
        "              metrics=['accuracy'])\n"
      ],
      "metadata": {
        "id": "gnFnvY3fV33q"
      },
      "execution_count": 10,
      "outputs": []
    },
    {
      "cell_type": "code",
      "source": [
        "history = model.fit(X_train, y_train, epochs=20, batch_size=64, validation_data=(X_test, y_test))\n"
      ],
      "metadata": {
        "colab": {
          "base_uri": "https://localhost:8080/"
        },
        "id": "HsPX3PwaV6u6",
        "outputId": "df220871-2737-47aa-87a9-503aefaeaff6"
      },
      "execution_count": 11,
      "outputs": [
        {
          "output_type": "stream",
          "name": "stdout",
          "text": [
            "Epoch 1/20\n",
            "\u001b[1m1145/1145\u001b[0m \u001b[32m━━━━━━━━━━━━━━━━━━━━\u001b[0m\u001b[37m\u001b[0m \u001b[1m111s\u001b[0m 95ms/step - accuracy: 0.5643 - loss: 1.3048 - val_accuracy: 0.8608 - val_loss: 0.4893\n",
            "Epoch 2/20\n",
            "\u001b[1m1145/1145\u001b[0m \u001b[32m━━━━━━━━━━━━━━━━━━━━\u001b[0m\u001b[37m\u001b[0m \u001b[1m138s\u001b[0m 92ms/step - accuracy: 0.8771 - loss: 0.4157 - val_accuracy: 0.8847 - val_loss: 0.3982\n",
            "Epoch 3/20\n",
            "\u001b[1m1145/1145\u001b[0m \u001b[32m━━━━━━━━━━━━━━━━━━━━\u001b[0m\u001b[37m\u001b[0m \u001b[1m146s\u001b[0m 95ms/step - accuracy: 0.9049 - loss: 0.3251 - val_accuracy: 0.8927 - val_loss: 0.3732\n",
            "Epoch 4/20\n",
            "\u001b[1m1145/1145\u001b[0m \u001b[32m━━━━━━━━━━━━━━━━━━━━\u001b[0m\u001b[37m\u001b[0m \u001b[1m140s\u001b[0m 94ms/step - accuracy: 0.9202 - loss: 0.2737 - val_accuracy: 0.8980 - val_loss: 0.3474\n",
            "Epoch 5/20\n",
            "\u001b[1m1145/1145\u001b[0m \u001b[32m━━━━━━━━━━━━━━━━━━━━\u001b[0m\u001b[37m\u001b[0m \u001b[1m115s\u001b[0m 100ms/step - accuracy: 0.9308 - loss: 0.2344 - val_accuracy: 0.9087 - val_loss: 0.3316\n",
            "Epoch 6/20\n",
            "\u001b[1m1145/1145\u001b[0m \u001b[32m━━━━━━━━━━━━━━━━━━━━\u001b[0m\u001b[37m\u001b[0m \u001b[1m131s\u001b[0m 91ms/step - accuracy: 0.9395 - loss: 0.2053 - val_accuracy: 0.9119 - val_loss: 0.3209\n",
            "Epoch 7/20\n",
            "\u001b[1m1145/1145\u001b[0m \u001b[32m━━━━━━━━━━━━━━━━━━━━\u001b[0m\u001b[37m\u001b[0m \u001b[1m141s\u001b[0m 90ms/step - accuracy: 0.9477 - loss: 0.1780 - val_accuracy: 0.9136 - val_loss: 0.3236\n",
            "Epoch 8/20\n",
            "\u001b[1m1145/1145\u001b[0m \u001b[32m━━━━━━━━━━━━━━━━━━━━\u001b[0m\u001b[37m\u001b[0m \u001b[1m143s\u001b[0m 92ms/step - accuracy: 0.9528 - loss: 0.1554 - val_accuracy: 0.9062 - val_loss: 0.3732\n",
            "Epoch 9/20\n",
            "\u001b[1m1145/1145\u001b[0m \u001b[32m━━━━━━━━━━━━━━━━━━━━\u001b[0m\u001b[37m\u001b[0m \u001b[1m140s\u001b[0m 90ms/step - accuracy: 0.9609 - loss: 0.1338 - val_accuracy: 0.9091 - val_loss: 0.3775\n",
            "Epoch 10/20\n",
            "\u001b[1m1145/1145\u001b[0m \u001b[32m━━━━━━━━━━━━━━━━━━━━\u001b[0m\u001b[37m\u001b[0m \u001b[1m142s\u001b[0m 90ms/step - accuracy: 0.9640 - loss: 0.1188 - val_accuracy: 0.9085 - val_loss: 0.4111\n",
            "Epoch 11/20\n",
            "\u001b[1m1145/1145\u001b[0m \u001b[32m━━━━━━━━━━━━━━━━━━━━\u001b[0m\u001b[37m\u001b[0m \u001b[1m142s\u001b[0m 91ms/step - accuracy: 0.9704 - loss: 0.0991 - val_accuracy: 0.9115 - val_loss: 0.4256\n",
            "Epoch 12/20\n",
            "\u001b[1m1145/1145\u001b[0m \u001b[32m━━━━━━━━━━━━━━━━━━━━\u001b[0m\u001b[37m\u001b[0m \u001b[1m140s\u001b[0m 89ms/step - accuracy: 0.9728 - loss: 0.0877 - val_accuracy: 0.9031 - val_loss: 0.4489\n",
            "Epoch 13/20\n",
            "\u001b[1m1145/1145\u001b[0m \u001b[32m━━━━━━━━━━━━━━━━━━━━\u001b[0m\u001b[37m\u001b[0m \u001b[1m143s\u001b[0m 90ms/step - accuracy: 0.9759 - loss: 0.0772 - val_accuracy: 0.9039 - val_loss: 0.4866\n",
            "Epoch 14/20\n",
            "\u001b[1m1145/1145\u001b[0m \u001b[32m━━━━━━━━━━━━━━━━━━━━\u001b[0m\u001b[37m\u001b[0m \u001b[1m146s\u001b[0m 94ms/step - accuracy: 0.9776 - loss: 0.0699 - val_accuracy: 0.9070 - val_loss: 0.5447\n",
            "Epoch 15/20\n",
            "\u001b[1m1145/1145\u001b[0m \u001b[32m━━━━━━━━━━━━━━━━━━━━\u001b[0m\u001b[37m\u001b[0m \u001b[1m101s\u001b[0m 88ms/step - accuracy: 0.9798 - loss: 0.0612 - val_accuracy: 0.9072 - val_loss: 0.5462\n",
            "Epoch 16/20\n",
            "\u001b[1m1145/1145\u001b[0m \u001b[32m━━━━━━━━━━━━━━━━━━━━\u001b[0m\u001b[37m\u001b[0m \u001b[1m105s\u001b[0m 91ms/step - accuracy: 0.9831 - loss: 0.0528 - val_accuracy: 0.9072 - val_loss: 0.5986\n",
            "Epoch 17/20\n",
            "\u001b[1m1145/1145\u001b[0m \u001b[32m━━━━━━━━━━━━━━━━━━━━\u001b[0m\u001b[37m\u001b[0m \u001b[1m103s\u001b[0m 90ms/step - accuracy: 0.9828 - loss: 0.0520 - val_accuracy: 0.9052 - val_loss: 0.6066\n",
            "Epoch 18/20\n",
            "\u001b[1m1145/1145\u001b[0m \u001b[32m━━━━━━━━━━━━━━━━━━━━\u001b[0m\u001b[37m\u001b[0m \u001b[1m106s\u001b[0m 93ms/step - accuracy: 0.9863 - loss: 0.0406 - val_accuracy: 0.9022 - val_loss: 0.7153\n",
            "Epoch 19/20\n",
            "\u001b[1m1145/1145\u001b[0m \u001b[32m━━━━━━━━━━━━━━━━━━━━\u001b[0m\u001b[37m\u001b[0m \u001b[1m138s\u001b[0m 89ms/step - accuracy: 0.9863 - loss: 0.0437 - val_accuracy: 0.9032 - val_loss: 0.6564\n",
            "Epoch 20/20\n",
            "\u001b[1m1145/1145\u001b[0m \u001b[32m━━━━━━━━━━━━━━━━━━━━\u001b[0m\u001b[37m\u001b[0m \u001b[1m145s\u001b[0m 92ms/step - accuracy: 0.9866 - loss: 0.0416 - val_accuracy: 0.9015 - val_loss: 0.6980\n"
          ]
        }
      ]
    },
    {
      "cell_type": "code",
      "source": [
        "plt.plot(history.history['accuracy'], label='accuracy')\n",
        "plt.plot(history.history['val_accuracy'], label='val_accuracy')\n",
        "plt.xlabel('Epoch')\n",
        "plt.ylabel('Accuracy')\n",
        "plt.legend(loc='lower right')\n",
        "plt.show()\n"
      ],
      "metadata": {
        "colab": {
          "base_uri": "https://localhost:8080/",
          "height": 449
        },
        "id": "1MJgs-3YgIfA",
        "outputId": "3943a67b-0e6a-4ed3-cad2-d1ed2cf9f06d"
      },
      "execution_count": 12,
      "outputs": [
        {
          "output_type": "display_data",
          "data": {
            "text/plain": [
              "<Figure size 640x480 with 1 Axes>"
            ],
            "image/png": "[encoded data removed]"
          },
          "metadata": {}
        }
      ]
    },
    {
      "cell_type": "code",
      "source": [
        "test_loss, test_accuracy = model.evaluate(X_test, y_test, verbose=2)\n",
        "print('Test accuracy:', test_accuracy)\n"
      ],
      "metadata": {
        "colab": {
          "base_uri": "https://localhost:8080/"
        },
        "id": "dI0M3VVtgQIs",
        "outputId": "43d14fa2-6973-427c-a92f-50ad30b84d1b"
      },
      "execution_count": 13,
      "outputs": [
        {
          "output_type": "stream",
          "name": "stdout",
          "text": [
            "814/814 - 13s - 16ms/step - accuracy: 0.9015 - loss: 0.6980\n",
            "Test accuracy: 0.9014674425125122\n"
          ]
        }
      ]
    },
    {
      "cell_type": "code",
      "source": [
        "# Save the model in the native Keras format\n",
        "model.save('svhn_cnn_model.keras')\n"
      ],
      "metadata": {
        "id": "PYxFsLWVgZ-D"
      },
      "execution_count": 15,
      "outputs": []
    }
  ]
}